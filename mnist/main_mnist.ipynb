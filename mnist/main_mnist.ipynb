{
 "cells": [
  {
   "cell_type": "code",
   "execution_count": 1,
   "metadata": {
    "pycharm": {
     "is_executing": false
    }
   },
   "outputs": [],
   "source": [
    "from resnet20 import ResNetCIFAR\n",
    "from lenet import LeNet5, LeNet300\n",
    "from train_util import train, test, train_gsm_unstructured, train_gsm_structured\n",
    "from summary import summary\n",
    "import torch\n",
    "import numpy as np\n",
    "from final_pruning import final_unstruct_pruning, final_struct_pruning\n",
    "import torch.nn as nn\n",
    "import matplotlib.pyplot as plt\n",
    "\n",
    "from evaluate_util import compute_conv_flops\n",
    "\n",
    "device = 'cuda' if torch.cuda.is_available() else 'cpu'"
   ]
  },
  {
   "cell_type": "code",
   "execution_count": 2,
   "metadata": {},
   "outputs": [],
   "source": [
    "EPOCHS = 50"
   ]
  },
  {
   "cell_type": "markdown",
   "metadata": {},
   "source": [
    "### Based model LeNet-5 training with SGD"
   ]
  },
  {
   "cell_type": "code",
   "execution_count": 3,
   "metadata": {
    "scrolled": true
   },
   "outputs": [],
   "source": [
    "net = LeNet5()\n",
    "net = net.to(device)\n",
    "\n",
    "# Comment if you have pretrained weights\n",
    "# train(net, epochs=EPOCHS, batch_size=128, lr=0.1, reg=1e-4, net_name = 'lenet_5_base.pt')"
   ]
  },
  {
   "cell_type": "code",
   "execution_count": 4,
   "metadata": {
    "scrolled": true
   },
   "outputs": [
    {
     "name": "stdout",
     "output_type": "stream",
     "text": [
      "Downloading http://yann.lecun.com/exdb/mnist/train-images-idx3-ubyte.gz to ./data/MNIST/raw/train-images-idx3-ubyte.gz\n"
     ]
    },
    {
     "data": {
      "application/vnd.jupyter.widget-view+json": {
       "model_id": "3097d367fe11458d9a2cf249805efdf4",
       "version_major": 2,
       "version_minor": 0
      },
      "text/plain": [
       "HBox(children=(FloatProgress(value=1.0, bar_style='info', max=1.0), HTML(value='')))"
      ]
     },
     "metadata": {},
     "output_type": "display_data"
    },
    {
     "name": "stdout",
     "output_type": "stream",
     "text": [
      "Extracting ./data/MNIST/raw/train-images-idx3-ubyte.gz to ./data/MNIST/raw\n",
      "Downloading http://yann.lecun.com/exdb/mnist/train-labels-idx1-ubyte.gz to ./data/MNIST/raw/train-labels-idx1-ubyte.gz\n"
     ]
    },
    {
     "data": {
      "application/vnd.jupyter.widget-view+json": {
       "model_id": "3d5880e41dea4a2296b7a1a960d6c10c",
       "version_major": 2,
       "version_minor": 0
      },
      "text/plain": [
       "HBox(children=(FloatProgress(value=1.0, bar_style='info', max=1.0), HTML(value='')))"
      ]
     },
     "metadata": {},
     "output_type": "display_data"
    },
    {
     "name": "stdout",
     "output_type": "stream",
     "text": [
      "Extracting ./data/MNIST/raw/train-labels-idx1-ubyte.gz to ./data/MNIST/raw\n",
      "Downloading http://yann.lecun.com/exdb/mnist/t10k-images-idx3-ubyte.gz to ./data/MNIST/raw/t10k-images-idx3-ubyte.gz\n"
     ]
    },
    {
     "data": {
      "application/vnd.jupyter.widget-view+json": {
       "model_id": "81468b12b855437fabef8921ac91f459",
       "version_major": 2,
       "version_minor": 0
      },
      "text/plain": [
       "HBox(children=(FloatProgress(value=1.0, bar_style='info', max=1.0), HTML(value='')))"
      ]
     },
     "metadata": {},
     "output_type": "display_data"
    },
    {
     "name": "stdout",
     "output_type": "stream",
     "text": [
      "Extracting ./data/MNIST/raw/t10k-images-idx3-ubyte.gz to ./data/MNIST/raw\n",
      "Downloading http://yann.lecun.com/exdb/mnist/t10k-labels-idx1-ubyte.gz to ./data/MNIST/raw/t10k-labels-idx1-ubyte.gz\n"
     ]
    },
    {
     "data": {
      "application/vnd.jupyter.widget-view+json": {
       "model_id": "50e6d270b2df45cea72043aa62a6e5b2",
       "version_major": 2,
       "version_minor": 0
      },
      "text/plain": [
       "HBox(children=(FloatProgress(value=1.0, bar_style='info', max=1.0), HTML(value='')))"
      ]
     },
     "metadata": {},
     "output_type": "display_data"
    },
    {
     "name": "stdout",
     "output_type": "stream",
     "text": [
      "Extracting ./data/MNIST/raw/t10k-labels-idx1-ubyte.gz to ./data/MNIST/raw\n",
      "Processing...\n",
      "Done!\n",
      "\n",
      "\n"
     ]
    },
    {
     "name": "stderr",
     "output_type": "stream",
     "text": [
      "/opt/conda/conda-bld/pytorch_1591914742272/work/torch/csrc/utils/tensor_numpy.cpp:141: UserWarning: The given NumPy array is not writeable, and PyTorch does not support non-writeable tensors. This means you can write to the underlying (supposedly non-writeable) NumPy array using the tensor. You may want to copy the array to protect its data or make it writeable before converting it to a tensor. This type of warning will be suppressed for the rest of this program.\n"
     ]
    },
    {
     "name": "stdout",
     "output_type": "stream",
     "text": [
      "Test Loss=0.0218, Test accuracy=0.9943\n",
      "Layer id\tType\t\tParameter\tNon-zero parameter\tSparsity(\\%)\n",
      "1\t\tConvolutional_Param\t500\t\t500\t\t\t0.000000\n",
      "1\t\tConvolutional_Filter\t20\t\t20\t\t\t0.000000\n",
      "2\t\tConvolutional_Param\t25000\t\t25000\t\t\t0.000000\n",
      "2\t\tConvolutional_Filter\t50\t\t50\t\t\t0.000000\n",
      "3\t\tLinear\t\t400000\t\t400000\t\t\t0.000000\n",
      "3\t\ttLinear_Filter\t800\t\t800\t\t\t0.000000\n",
      "4\t\tLinear\t\t5000\t\t5000\t\t\t0.000000\n",
      "4\t\ttLinear_Filter\t500\t\t500\t\t\t0.000000\n",
      "Total nonzero parameters: 430500\n",
      "Total parameters: 430500\n",
      "Total sparsity: 0.000000\n",
      "FLOPs:  2293000.0\n"
     ]
    }
   ],
   "source": [
    "net.load_state_dict(torch.load(\"saved_models/lenet_5_base.pt\"))\n",
    "test(net)\n",
    "summary(net)\n",
    "print('FLOPs: ', compute_conv_flops(net, cuda=True, prune=True))"
   ]
  },
  {
   "cell_type": "markdown",
   "metadata": {},
   "source": [
    "### LeNet-5 Model Trained with Unstructured GSM SGD"
   ]
  },
  {
   "cell_type": "code",
   "execution_count": 5,
   "metadata": {},
   "outputs": [],
   "source": [
    "NON_ZERO_RATIO = 0.15"
   ]
  },
  {
   "cell_type": "code",
   "execution_count": 6,
   "metadata": {
    "scrolled": true
   },
   "outputs": [
    {
     "data": {
      "text/plain": [
       "<All keys matched successfully>"
      ]
     },
     "execution_count": 6,
     "metadata": {},
     "output_type": "execute_result"
    }
   ],
   "source": [
    "net = LeNet5()\n",
    "net = net.to(device)\n",
    "net.load_state_dict(torch.load(\"saved_models/lenet_5_base.pt\"))\n",
    "\n",
    "\n",
    "# Comment if you have loaded pretrained weights\n",
    "# train_gsm_unstructured(net, epochs=EPOCHS, batch_size=256, lr=0.03, nonzero_ratio = NON_ZERO_RATIO, \n",
    "#                        reg=1e-4, net_name = 'lenet_5_unstruct_gsm_before_pruning.pt')"
   ]
  },
  {
   "cell_type": "code",
   "execution_count": 7,
   "metadata": {},
   "outputs": [],
   "source": [
    "# net.load_state_dict(torch.load(\"saved_models/lenet_5_unstruct_gsm_before_pruning.pt\"))\n",
    "# final_unstruct_pruning(net, nonzero_ratio = NON_ZERO_RATIO, \n",
    "#                      net_name = \"lenet_5_unstruct_gsm_after_pruning.pt\")"
   ]
  },
  {
   "cell_type": "code",
   "execution_count": 8,
   "metadata": {
    "scrolled": true
   },
   "outputs": [
    {
     "name": "stdout",
     "output_type": "stream",
     "text": [
      "Test Loss=0.0271, Test accuracy=0.9924\n",
      "Layer id\tType\t\tParameter\tNon-zero parameter\tSparsity(\\%)\n",
      "1\t\tConvolutional_Param\t500\t\t159\t\t\t0.682000\n",
      "1\t\tConvolutional_Filter\t20\t\t8\t\t\t0.600000\n",
      "2\t\tConvolutional_Param\t25000\t\t867\t\t\t0.965320\n",
      "2\t\tConvolutional_Filter\t50\t\t29\t\t\t0.420000\n",
      "3\t\tLinear\t\t400000\t\t60785\t\t\t0.848037\n",
      "3\t\ttLinear_Filter\t800\t\t459\t\t\t0.426250\n",
      "4\t\tLinear\t\t5000\t\t2764\t\t\t0.447200\n",
      "4\t\ttLinear_Filter\t500\t\t383\t\t\t0.234000\n",
      "Total nonzero parameters: 64575\n",
      "Total parameters: 430500\n",
      "Total sparsity: 0.850000\n",
      "FLOPs:  660978.0\n"
     ]
    }
   ],
   "source": [
    "net.load_state_dict(torch.load(\"saved_models/lenet_5_unstruct_gsm_after_pruning.pt\"))\n",
    "test(net)\n",
    "summary(net)\n",
    "print('FLOPs: ', compute_conv_flops(net, cuda=True, prune=True))"
   ]
  },
  {
   "cell_type": "markdown",
   "metadata": {},
   "source": [
    "### LeNet-5 Model Trained with Structured GSM SGD"
   ]
  },
  {
   "cell_type": "code",
   "execution_count": 9,
   "metadata": {},
   "outputs": [],
   "source": [
    "NON_ZERO_RATIO = 0.08"
   ]
  },
  {
   "cell_type": "code",
   "execution_count": 10,
   "metadata": {
    "scrolled": true
   },
   "outputs": [
    {
     "data": {
      "text/plain": [
       "<All keys matched successfully>"
      ]
     },
     "execution_count": 10,
     "metadata": {},
     "output_type": "execute_result"
    }
   ],
   "source": [
    "net = LeNet5()\n",
    "net = net.to(device)\n",
    "net.load_state_dict(torch.load(\"saved_models/lenet_5_base.pt\"))\n",
    "\n",
    "# Uncomment to load pretrained weights\n",
    "# net.load_state_dict(torch.load(\"lenet_5_base_struct_gsm_before_pruning.pt\"))\n",
    "\n",
    "# Comment if you have loaded pretrained weights\n",
    "# train_gsm_structured(net, epochs=EPOCHS, batch_size=256, lr=0.03, nonzero_ratio = NON_ZERO_RATIO, \n",
    "#                      reg=1e-4, net_name = 'lenet_5_base_struct_gsm_before_pruning.pt')"
   ]
  },
  {
   "cell_type": "code",
   "execution_count": 11,
   "metadata": {
    "scrolled": true
   },
   "outputs": [],
   "source": [
    "# net.load_state_dict(torch.load(\"saved_models/lenet_5_base_struct_gsm_before_pruning.pt\"))\n",
    "# final_struct_pruning(net, nonzero_ratio = NON_ZERO_RATIO, \n",
    "#                      net_name = \"lenet_5_struct_gsm_after_pruning.pt\")"
   ]
  },
  {
   "cell_type": "code",
   "execution_count": 12,
   "metadata": {
    "scrolled": true
   },
   "outputs": [
    {
     "name": "stdout",
     "output_type": "stream",
     "text": [
      "Test Loss=0.0289, Test accuracy=0.9915\n",
      "Layer id\tType\t\tParameter\tNon-zero parameter\tSparsity(\\%)\n",
      "1\t\tConvolutional_Param\t500\t\t175\t\t\t0.650000\n",
      "1\t\tConvolutional_Filter\t20\t\t7\t\t\t0.650000\n",
      "2\t\tConvolutional_Param\t25000\t\t3500\t\t\t0.860000\n",
      "2\t\tConvolutional_Filter\t50\t\t7\t\t\t0.860000\n",
      "3\t\tLinear\t\t400000\t\t40287\t\t\t0.899282\n",
      "3\t\ttLinear_Filter\t800\t\t91\t\t\t0.886250\n",
      "4\t\tLinear\t\t5000\t\t320\t\t\t0.936000\n",
      "4\t\ttLinear_Filter\t500\t\t32\t\t\t0.936000\n",
      "Total nonzero parameters: 44282\n",
      "Total parameters: 430500\n",
      "Total sparsity: 0.897138\n",
      "FLOPs:  365524.0\n"
     ]
    }
   ],
   "source": [
    "net.load_state_dict(torch.load(\"saved_models/lenet_5_struct_gsm_after_pruning.pt\"))\n",
    "test(net)\n",
    "summary(net)\n",
    "print('FLOPs: ', compute_conv_flops(net, cuda=True, prune=True))"
   ]
  },
  {
   "cell_type": "markdown",
   "metadata": {},
   "source": [
    "### Based model LeNet-300 training with SGD"
   ]
  },
  {
   "cell_type": "code",
   "execution_count": 13,
   "metadata": {
    "scrolled": true
   },
   "outputs": [],
   "source": [
    "net = LeNet300()\n",
    "net = net.to(device)\n",
    "\n",
    "# Comment if you have pretrained weights\n",
    "# train(net, epochs=EPOCHS, batch_size=128, lr=0.1, reg=1e-4, net_name = 'lenet_300_base.pt')"
   ]
  },
  {
   "cell_type": "code",
   "execution_count": 14,
   "metadata": {
    "scrolled": true
   },
   "outputs": [
    {
     "name": "stdout",
     "output_type": "stream",
     "text": [
      "Test Loss=0.0496, Test accuracy=0.9855\n",
      "Layer id\tType\t\tParameter\tNon-zero parameter\tSparsity(\\%)\n",
      "1\t\tLinear\t\t235200\t\t235200\t\t\t0.000000\n",
      "1\t\ttLinear_Filter\t784\t\t784\t\t\t0.000000\n",
      "2\t\tLinear\t\t30000\t\t30000\t\t\t0.000000\n",
      "2\t\ttLinear_Filter\t300\t\t300\t\t\t0.000000\n",
      "3\t\tLinear\t\t1000\t\t1000\t\t\t0.000000\n",
      "3\t\ttLinear_Filter\t100\t\t100\t\t\t0.000000\n",
      "Total nonzero parameters: 266200\n",
      "Total parameters: 266200\n",
      "Total sparsity: 0.000000\n",
      "FLOPs:  266200\n"
     ]
    }
   ],
   "source": [
    "net.load_state_dict(torch.load(\"saved_models/lenet_300_base.pt\"))\n",
    "test(net)\n",
    "summary(net)\n",
    "print('FLOPs: ', compute_conv_flops(net, cuda=True, prune=True))"
   ]
  },
  {
   "cell_type": "markdown",
   "metadata": {},
   "source": [
    "### LeNet-300 Model Trained with Unstructured GSM SGD"
   ]
  },
  {
   "cell_type": "code",
   "execution_count": 15,
   "metadata": {},
   "outputs": [],
   "source": [
    "NON_ZERO_RATIO = 0.2"
   ]
  },
  {
   "cell_type": "code",
   "execution_count": 16,
   "metadata": {
    "scrolled": true
   },
   "outputs": [
    {
     "data": {
      "text/plain": [
       "<All keys matched successfully>"
      ]
     },
     "execution_count": 16,
     "metadata": {},
     "output_type": "execute_result"
    }
   ],
   "source": [
    "net = LeNet300()\n",
    "net = net.to(device)\n",
    "net.load_state_dict(torch.load(\"saved_models/lenet_300_base.pt\"))\n",
    "\n",
    "# Comment if you have pretrained weights\n",
    "# train_gsm_unstructured(net, epochs=EPOCHS, batch_size=256, lr=0.03, nonzero_ratio = NON_ZERO_RATIO, \n",
    "#                        reg=1e-4, net_name = 'lenet_300_unstruct_gsm_before_pruning.pt')"
   ]
  },
  {
   "cell_type": "code",
   "execution_count": 17,
   "metadata": {},
   "outputs": [],
   "source": [
    "# net.load_state_dict(torch.load(\"saved_models/lenet_300_unstruct_gsm_before_pruning.pt\"))\n",
    "# final_unstruct_pruning(net, nonzero_ratio = NON_ZERO_RATIO, \n",
    "#                      net_name = \"lenet_300_unstruct_gsm_after_pruning.pt\")"
   ]
  },
  {
   "cell_type": "code",
   "execution_count": 18,
   "metadata": {},
   "outputs": [
    {
     "name": "stdout",
     "output_type": "stream",
     "text": [
      "Test Loss=0.0530, Test accuracy=0.9853\n",
      "Layer id\tType\t\tParameter\tNon-zero parameter\tSparsity(\\%)\n",
      "1\t\tLinear\t\t235200\t\t41712\t\t\t0.822653\n",
      "1\t\ttLinear_Filter\t784\t\t533\t\t\t0.320153\n",
      "2\t\tLinear\t\t30000\t\t10743\t\t\t0.641900\n",
      "2\t\ttLinear_Filter\t300\t\t255\t\t\t0.150000\n",
      "3\t\tLinear\t\t1000\t\t785\t\t\t0.215000\n",
      "3\t\ttLinear_Filter\t100\t\t95\t\t\t0.050000\n",
      "Total nonzero parameters: 53240\n",
      "Total parameters: 266200\n",
      "Total sparsity: 0.800000\n",
      "FLOPs:  160603\n"
     ]
    }
   ],
   "source": [
    "net.load_state_dict(torch.load(\"saved_models/lenet_300_unstruct_gsm_after_pruning.pt\"))\n",
    "test(net)\n",
    "summary(net)\n",
    "print('FLOPs: ', compute_conv_flops(net, cuda=True, prune=True))"
   ]
  },
  {
   "cell_type": "markdown",
   "metadata": {},
   "source": [
    "### LeNet-300 Model Trained with Structured GSM SGD"
   ]
  },
  {
   "cell_type": "code",
   "execution_count": 19,
   "metadata": {},
   "outputs": [],
   "source": [
    "NON_ZERO_RATIO = 0.3"
   ]
  },
  {
   "cell_type": "code",
   "execution_count": 20,
   "metadata": {
    "scrolled": true
   },
   "outputs": [
    {
     "data": {
      "text/plain": [
       "<All keys matched successfully>"
      ]
     },
     "execution_count": 20,
     "metadata": {},
     "output_type": "execute_result"
    }
   ],
   "source": [
    "net = LeNet300()\n",
    "net = net.to(device)\n",
    "net.load_state_dict(torch.load(\"saved_models/lenet_300_base.pt\"))\n",
    "\n",
    "# Comment if you have loaded pretrained weights\n",
    "# train_gsm_structured(net, epochs=EPOCHS, batch_size=256, lr=0.03, nonzero_ratio = NON_ZERO_RATIO, \n",
    "#                      reg=1e-4, net_name = 'lenet_300_base_struct_gsm_before_pruning.pt')"
   ]
  },
  {
   "cell_type": "code",
   "execution_count": 21,
   "metadata": {},
   "outputs": [],
   "source": [
    "# net.load_state_dict(torch.load(\"saved_models/lenet_300_base_struct_gsm_before_pruning.pt\"))\n",
    "# final_struct_pruning(net, nonzero_ratio = NON_ZERO_RATIO, \n",
    "#                      net_name = \"lenet_300_struct_gsm_after_pruning.pt\")"
   ]
  },
  {
   "cell_type": "code",
   "execution_count": 22,
   "metadata": {
    "scrolled": true
   },
   "outputs": [
    {
     "name": "stdout",
     "output_type": "stream",
     "text": [
      "Test Loss=0.0755, Test accuracy=0.9803\n",
      "Layer id\tType\t\tParameter\tNon-zero parameter\tSparsity(\\%)\n",
      "1\t\tLinear\t\t235200\t\t70752\t\t\t0.699184\n",
      "1\t\ttLinear_Filter\t784\t\t236\t\t\t0.698980\n",
      "2\t\tLinear\t\t30000\t\t5500\t\t\t0.816667\n",
      "2\t\ttLinear_Filter\t300\t\t55\t\t\t0.816667\n",
      "3\t\tLinear\t\t1000\t\t640\t\t\t0.360000\n",
      "3\t\ttLinear_Filter\t100\t\t64\t\t\t0.360000\n",
      "Total nonzero parameters: 76892\n",
      "Total parameters: 266200\n",
      "Total sparsity: 0.711150\n"
     ]
    },
    {
     "data": {
      "text/plain": [
       "76940"
      ]
     },
     "execution_count": 22,
     "metadata": {},
     "output_type": "execute_result"
    }
   ],
   "source": [
    "net.load_state_dict(torch.load(\"saved_models/lenet_300_struct_gsm_after_pruning.pt\"))\n",
    "test(net)\n",
    "summary(net)\n",
    "compute_conv_flops(net, cuda=True, prune=True)"
   ]
  },
  {
   "cell_type": "code",
   "execution_count": null,
   "metadata": {},
   "outputs": [],
   "source": []
  }
 ],
 "metadata": {
  "kernelspec": {
   "display_name": "Python 3",
   "language": "python",
   "name": "python3"
  },
  "language_info": {
   "codemirror_mode": {
    "name": "ipython",
    "version": 3
   },
   "file_extension": ".py",
   "mimetype": "text/x-python",
   "name": "python",
   "nbconvert_exporter": "python",
   "pygments_lexer": "ipython3",
   "version": "3.6.10"
  },
  "pycharm": {
   "stem_cell": {
    "cell_type": "raw",
    "metadata": {
     "collapsed": false
    },
    "source": []
   }
  }
 },
 "nbformat": 4,
 "nbformat_minor": 4
}
